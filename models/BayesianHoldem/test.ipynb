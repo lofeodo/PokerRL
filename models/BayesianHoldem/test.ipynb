{
 "cells": [
  {
   "cell_type": "code",
   "execution_count": null,
   "metadata": {},
   "outputs": [
    {
     "name": "stdout",
     "output_type": "stream",
     "text": [
      "CNN_A, conv1\n",
      "CNN_A, conv2\n",
      "CNN_A, conv3\n",
      "CNN_C, conv1\n",
      "CNN_C, conv2\n",
      "CNN_C, conv3\n",
      "CNN_C, conv4\n",
      "output_a_flat.shape: torch.Size([4096])\n",
      "output_c_flat.shape: torch.Size([13312])\n",
      "input.shape: torch.Size([17408])\n",
      "MLP, fc1\n",
      "MLP, fc2\n",
      "0\n"
     ]
    }
   ],
   "source": [
    "from BayesianHoldem import BayesianHoldem\n",
    "import torch\n",
    "\n",
    "model = BayesianHoldem()\n",
    "\n",
    "for i in range(10):\n",
    "    card_representation = torch.randn(6, 13, 4)\n",
    "    action_representation = torch.randn(24, 4, 4)\n",
    "    prediction = model.predict_action(action_representation, card_representation)\n",
    "    if prediction == 0:\n",
    "        print(f\"prediction {i}: Fold\")\n",
    "    elif prediction == 1:\n",
    "        print(f\"prediction {i}: Check/Call\")\n",
    "    elif prediction == 2:\n",
    "        print(f\"prediction {i}: Bet/Raise (BB)\")\n",
    "    elif prediction == 3:\n",
    "        print(f\"prediction {i}: All-in\")"
   ]
  }
 ],
 "metadata": {
  "kernelspec": {
   "display_name": "PokerRL",
   "language": "python",
   "name": "python3"
  },
  "language_info": {
   "codemirror_mode": {
    "name": "ipython",
    "version": 3
   },
   "file_extension": ".py",
   "mimetype": "text/x-python",
   "name": "python",
   "nbconvert_exporter": "python",
   "pygments_lexer": "ipython3",
   "version": "3.10.16"
  }
 },
 "nbformat": 4,
 "nbformat_minor": 2
}
