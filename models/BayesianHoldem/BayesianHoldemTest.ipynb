{
 "cells": [
  {
   "cell_type": "code",
   "execution_count": 1,
   "metadata": {},
   "outputs": [
    {
     "name": "stdout",
     "output_type": "stream",
     "text": [
      "prediction 0: Fold\n",
      "prediction 1: Check/Call\n",
      "prediction 2: Bet/Raise (BB)\n",
      "prediction 3: Bet/Raise (BB)\n",
      "prediction 4: All-in\n",
      "prediction 5: All-in\n",
      "prediction 6: Fold\n",
      "prediction 7: All-in\n",
      "prediction 8: All-in\n",
      "prediction 9: Fold\n"
     ]
    }
   ],
   "source": [
    "from BayesianHoldem import BayesianHoldem\n",
    "import torch\n",
    "\n",
    "model = BayesianHoldem()\n",
    "\n",
    "for i in range(10):\n",
    "    card_representation = torch.randn(6, 13, 4)\n",
    "    action_representation = torch.randn(24, 4, 4)\n",
    "    prediction = model.predict_action(action_representation, card_representation)\n",
    "    if prediction == 0:\n",
    "        print(f\"prediction {i}: Fold\")\n",
    "    elif prediction == 1:\n",
    "        print(f\"prediction {i}: Check/Call\")\n",
    "    elif prediction == 2:\n",
    "        print(f\"prediction {i}: Bet/Raise (BB)\")\n",
    "    elif prediction == 3:\n",
    "        print(f\"prediction {i}: All-in\")"
   ]
  },
  {
   "cell_type": "code",
   "execution_count": 2,
   "metadata": {},
   "outputs": [
    {
     "name": "stdout",
     "output_type": "stream",
     "text": [
      "<class 'pokerkit.state.State'>\n",
      "Street index: 0\n",
      "Stacks: [9900, 4950.0]\n"
     ]
    }
   ],
   "source": [
    "import pokerkit as pk\n",
    "\n",
    "big_blind = 100\n",
    "small_blind = 0.5*big_blind\n",
    "blinds = [small_blind, big_blind]\n",
    "ante = 0\n",
    "min_bet = 0.5*big_blind\n",
    "player_count = 2\n",
    "\n",
    "P1_stack = 100*big_blind\n",
    "P2_stack = 50*big_blind\n",
    "\n",
    "game = pk.NoLimitTexasHoldem(\n",
    "    # Automations - everything is automatic except for player actions\n",
    "    (\n",
    "        pk.Automation.ANTE_POSTING,\n",
    "        pk.Automation.BET_COLLECTION,\n",
    "        pk.Automation.BLIND_OR_STRADDLE_POSTING,\n",
    "        pk.Automation.CARD_BURNING,\n",
    "        pk.Automation.HOLE_DEALING,\n",
    "        pk.Automation.BOARD_DEALING,\n",
    "        pk.Automation.HOLE_CARDS_SHOWING_OR_MUCKING,\n",
    "        pk.Automation.HAND_KILLING,\n",
    "        pk.Automation.CHIPS_PUSHING,\n",
    "        pk.Automation.CHIPS_PULLING,\n",
    "    ),\n",
    "    ante_trimming_status=True, # irrelevant but necessary for the game to be created\n",
    "    raw_antes=ante,\n",
    "    raw_blinds_or_straddles=blinds,\n",
    "    min_bet=min_bet,\n",
    ")\n",
    "\n",
    "state = game(raw_starting_stacks=[P1_stack, P2_stack], player_count=player_count)\n",
    "print(type(state))\n",
    "print(f\"Street index: {state.street_index}\")\n",
    "print(f\"Stacks: {state.stacks}\")"
   ]
  },
  {
   "cell_type": "code",
   "execution_count": 3,
   "metadata": {},
   "outputs": [
    {
     "name": "stdout",
     "output_type": "stream",
     "text": [
      "<class 'pokerkit.state.HoleDealing'>\n",
      "<class 'pokerkit.state.BoardDealing'>\n",
      "<class 'pokerkit.state.BoardDealing'>\n",
      "(1000,)\n"
     ]
    }
   ],
   "source": [
    "print(type(state.operations[-1]))\n",
    "state.complete_bet_or_raise_to(500)\n",
    "state.check_or_call()\n",
    "print(type(state.operations[-1]))\n",
    "state.check_or_call()\n",
    "state.check_or_call()\n",
    "print(type(state.operations[-1]))\n",
    "print(tuple(state.pot_amounts)[0])\n"
   ]
  },
  {
   "cell_type": "code",
   "execution_count": 3,
   "metadata": {},
   "outputs": [
    {
     "name": "stdout",
     "output_type": "stream",
     "text": [
      "Bets: [100, 50.0]\n",
      "Stacks: [9900, 4950.0]\n",
      "Actor indices: deque([1, 0])\n",
      "All in\n",
      "Bets: [100, 5000.0]\n",
      "Stacks: [9900, 0.0]\n",
      "Actor indices: deque([0])\n",
      "Check or call\n",
      "Bets: [0, 0]\n",
      "Stacks: [5000.0, 10000.0]\n",
      "Actor indices: deque([])\n",
      "Street index: None\n"
     ]
    }
   ],
   "source": [
    "print(f\"Bets: {state.bets}\")\n",
    "print(f\"Stacks: {state.stacks}\")\n",
    "print(f\"Actor indices: {state.actor_indices}\")\n",
    "\n",
    "\n",
    "state.complete_bet_or_raise_to(state.stacks[state.actor_index] + state.bets[state.actor_index])\n",
    "print(f\"All in\")\n",
    "print(f\"Bets: {state.bets}\")\n",
    "print(f\"Stacks: {state.stacks}\")\n",
    "print(f\"Actor indices: {state.actor_indices}\")\n",
    "\n",
    "state.check_or_call()\n",
    "print(\"Check or call\")\n",
    "print(f\"Bets: {state.bets}\")\n",
    "print(f\"Stacks: {state.stacks}\")\n",
    "print(f\"Actor indices: {state.actor_indices}\")\n",
    "\n",
    "print(f\"Street index: {state.street_index}\")"
   ]
  },
  {
   "cell_type": "code",
   "execution_count": 1,
   "metadata": {},
   "outputs": [
    {
     "name": "stdout",
     "output_type": "stream",
     "text": [
      "===============\n",
      " New Game 1\n",
      "===============\n",
      "======= New Round =======\n",
      "Player 0 cards: [Td, 7h], chips: 9900\n",
      "Player 1 cards: [4d, 5h], chips: 9950.0\n",
      "Street index: 0\n",
      "Public cards: []\n",
      "Bets: P0: 100, P1: 50.0, Chips: P0: 9900, P1: 9950.0\n"
     ]
    },
    {
     "ename": "StopIteration",
     "evalue": "",
     "output_type": "error",
     "traceback": [
      "\u001b[1;31m---------------------------------------------------------------------------\u001b[0m",
      "\u001b[1;31mStopIteration\u001b[0m                             Traceback (most recent call last)",
      "Cell \u001b[1;32mIn[1], line 9\u001b[0m\n\u001b[0;32m      7\u001b[0m \u001b[38;5;28mprint\u001b[39m(\u001b[38;5;124mf\u001b[39m\u001b[38;5;124m\"\u001b[39m\u001b[38;5;124m New Game \u001b[39m\u001b[38;5;132;01m{\u001b[39;00mi\u001b[38;5;241m+\u001b[39m\u001b[38;5;241m1\u001b[39m\u001b[38;5;132;01m}\u001b[39;00m\u001b[38;5;124m\"\u001b[39m)\n\u001b[0;32m      8\u001b[0m \u001b[38;5;28mprint\u001b[39m(\u001b[38;5;124m\"\u001b[39m\u001b[38;5;124m===============\u001b[39m\u001b[38;5;124m\"\u001b[39m)\n\u001b[1;32m----> 9\u001b[0m \u001b[43mgame\u001b[49m\u001b[38;5;241;43m.\u001b[39;49m\u001b[43mrun_game\u001b[49m\u001b[43m(\u001b[49m\u001b[43mverbose\u001b[49m\u001b[38;5;241;43m=\u001b[39;49m\u001b[38;5;28;43;01mTrue\u001b[39;49;00m\u001b[43m,\u001b[49m\u001b[43m \u001b[49m\u001b[43mtraining\u001b[49m\u001b[38;5;241;43m=\u001b[39;49m\u001b[38;5;28;43;01mFalse\u001b[39;49;00m\u001b[43m)\u001b[49m\n",
      "File \u001b[1;32mc:\\GitHub Projects\\PokerRL\\models\\BayesianHoldem\\SelfPlayPokerGame.py:278\u001b[0m, in \u001b[0;36mSelfPlayPokerGame.run_game\u001b[1;34m(self, verbose, training)\u001b[0m\n\u001b[0;32m    274\u001b[0m game_metrics \u001b[38;5;241m=\u001b[39m []\n\u001b[0;32m    276\u001b[0m \u001b[38;5;28;01mwhile\u001b[39;00m \u001b[38;5;28;01mTrue\u001b[39;00m:\n\u001b[0;32m    277\u001b[0m     \u001b[38;5;66;03m# Run a round and collect metrics\u001b[39;00m\n\u001b[1;32m--> 278\u001b[0m     round_metrics \u001b[38;5;241m=\u001b[39m \u001b[38;5;28;43mself\u001b[39;49m\u001b[38;5;241;43m.\u001b[39;49m\u001b[43mrun_round\u001b[49m\u001b[43m(\u001b[49m\u001b[43mverbose\u001b[49m\u001b[38;5;241;43m=\u001b[39;49m\u001b[43mverbose\u001b[49m\u001b[43m,\u001b[49m\u001b[43m \u001b[49m\u001b[43mtraining\u001b[49m\u001b[38;5;241;43m=\u001b[39;49m\u001b[43mtraining\u001b[49m\u001b[43m)\u001b[49m\n\u001b[0;32m    279\u001b[0m     game_metrics\u001b[38;5;241m.\u001b[39mextend(round_metrics)\n\u001b[0;32m    281\u001b[0m     \u001b[38;5;66;03m# Check if someone lost all their chips\u001b[39;00m\n",
      "File \u001b[1;32mc:\\GitHub Projects\\PokerRL\\models\\BayesianHoldem\\SelfPlayPokerGame.py:247\u001b[0m, in \u001b[0;36mSelfPlayPokerGame.run_round\u001b[1;34m(self, verbose, training)\u001b[0m\n\u001b[0;32m    244\u001b[0m action \u001b[38;5;241m=\u001b[39m player\u001b[38;5;241m.\u001b[39mpredict_action(action_representation, card_representation)\n\u001b[0;32m    246\u001b[0m \u001b[38;5;66;03m# Execute action and get state transition info\u001b[39;00m\n\u001b[1;32m--> 247\u001b[0m transition \u001b[38;5;241m=\u001b[39m \u001b[38;5;28;43mself\u001b[39;49m\u001b[38;5;241;43m.\u001b[39;49m\u001b[43m_play_action\u001b[49m\u001b[43m(\u001b[49m\u001b[43mplayer_id\u001b[49m\u001b[43m,\u001b[49m\u001b[43m \u001b[49m\u001b[43maction\u001b[49m\u001b[43m,\u001b[49m\u001b[43m \u001b[49m\u001b[43mverbose\u001b[49m\u001b[43m)\u001b[49m\n\u001b[0;32m    249\u001b[0m \u001b[38;5;66;03m# Train if enabled\u001b[39;00m\n\u001b[0;32m    250\u001b[0m \u001b[38;5;28;01mif\u001b[39;00m training:\n",
      "File \u001b[1;32mc:\\GitHub Projects\\PokerRL\\models\\BayesianHoldem\\SelfPlayPokerGame.py:79\u001b[0m, in \u001b[0;36mSelfPlayPokerGame._play_action\u001b[1;34m(self, player_id, action, verbose)\u001b[0m\n\u001b[0;32m     73\u001b[0m other_player_id \u001b[38;5;241m=\u001b[39m \u001b[38;5;28mabs\u001b[39m(\u001b[38;5;241m1\u001b[39m \u001b[38;5;241m-\u001b[39m player_id)\n\u001b[0;32m     75\u001b[0m \u001b[38;5;66;03m# Store pre-action state\u001b[39;00m\n\u001b[0;32m     76\u001b[0m pre_state \u001b[38;5;241m=\u001b[39m {\n\u001b[0;32m     77\u001b[0m     \u001b[38;5;124m'\u001b[39m\u001b[38;5;124mbets\u001b[39m\u001b[38;5;124m'\u001b[39m: \u001b[38;5;28mself\u001b[39m\u001b[38;5;241m.\u001b[39mstate\u001b[38;5;241m.\u001b[39mbets\u001b[38;5;241m.\u001b[39mcopy(),\n\u001b[0;32m     78\u001b[0m     \u001b[38;5;124m'\u001b[39m\u001b[38;5;124mstacks\u001b[39m\u001b[38;5;124m'\u001b[39m: \u001b[38;5;28mself\u001b[39m\u001b[38;5;241m.\u001b[39mstate\u001b[38;5;241m.\u001b[39mstacks\u001b[38;5;241m.\u001b[39mcopy(),\n\u001b[1;32m---> 79\u001b[0m     \u001b[38;5;124m'\u001b[39m\u001b[38;5;124mpot_size\u001b[39m\u001b[38;5;124m'\u001b[39m: \u001b[38;5;28;43mnext\u001b[39;49m\u001b[43m(\u001b[49m\u001b[38;5;28;43mself\u001b[39;49m\u001b[38;5;241;43m.\u001b[39;49m\u001b[43mstate\u001b[49m\u001b[38;5;241;43m.\u001b[39;49m\u001b[43mpot_amounts\u001b[49m\u001b[43m)\u001b[49m,\n\u001b[0;32m     80\u001b[0m     \u001b[38;5;124m'\u001b[39m\u001b[38;5;124mstreet_index\u001b[39m\u001b[38;5;124m'\u001b[39m: \u001b[38;5;28mself\u001b[39m\u001b[38;5;241m.\u001b[39mstate\u001b[38;5;241m.\u001b[39mstreet_index,\n\u001b[0;32m     81\u001b[0m     \u001b[38;5;124m'\u001b[39m\u001b[38;5;124mboard_cards\u001b[39m\u001b[38;5;124m'\u001b[39m: \u001b[38;5;28mself\u001b[39m\u001b[38;5;241m.\u001b[39mstate\u001b[38;5;241m.\u001b[39mboard_cards\u001b[38;5;241m.\u001b[39mcopy() \u001b[38;5;28;01mif\u001b[39;00m \u001b[38;5;28mself\u001b[39m\u001b[38;5;241m.\u001b[39mstate\u001b[38;5;241m.\u001b[39mboard_cards \u001b[38;5;28;01melse\u001b[39;00m \u001b[38;5;28;01mNone\u001b[39;00m\n\u001b[0;32m     82\u001b[0m }\n\u001b[0;32m     84\u001b[0m \u001b[38;5;66;03m# Check the current state of the game\u001b[39;00m\n\u001b[0;32m     85\u001b[0m current_bet \u001b[38;5;241m=\u001b[39m \u001b[38;5;28mself\u001b[39m\u001b[38;5;241m.\u001b[39mstate\u001b[38;5;241m.\u001b[39mbets[other_player_id]  \u001b[38;5;66;03m# The bet made by the other player\u001b[39;00m\n",
      "\u001b[1;31mStopIteration\u001b[0m: "
     ]
    }
   ],
   "source": [
    "from SelfPlayPokerGame import SelfPlayPokerGame\n",
    "\n",
    "game = SelfPlayPokerGame()\n",
    "\n",
    "for i in range(10):\n",
    "    print(f\"===============\")\n",
    "    print(f\" New Game {i+1}\")\n",
    "    print(\"===============\")\n",
    "    game.run_game(verbose=True, training=False)"
   ]
  }
 ],
 "metadata": {
  "kernelspec": {
   "display_name": "PokerRL",
   "language": "python",
   "name": "python3"
  },
  "language_info": {
   "codemirror_mode": {
    "name": "ipython",
    "version": 3
   },
   "file_extension": ".py",
   "mimetype": "text/x-python",
   "name": "python",
   "nbconvert_exporter": "python",
   "pygments_lexer": "ipython3",
   "version": "3.11.11"
  }
 },
 "nbformat": 4,
 "nbformat_minor": 2
}
