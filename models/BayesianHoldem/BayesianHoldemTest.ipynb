{
 "cells": [
  {
   "cell_type": "code",
   "execution_count": 1,
   "metadata": {},
   "outputs": [
    {
     "name": "stdout",
     "output_type": "stream",
     "text": [
      "prediction 0: Bet/Raise (BB)\n",
      "prediction 1: Fold\n",
      "prediction 2: Fold\n",
      "prediction 3: Bet/Raise (BB)\n",
      "prediction 4: All-in\n",
      "prediction 5: All-in\n",
      "prediction 6: All-in\n",
      "prediction 7: Fold\n",
      "prediction 8: All-in\n",
      "prediction 9: Fold\n"
     ]
    }
   ],
   "source": [
    "from BayesianHoldem import BayesianHoldem\n",
    "import torch\n",
    "\n",
    "model = BayesianHoldem()\n",
    "\n",
    "for i in range(10):\n",
    "    card_representation = torch.randn(6, 13, 4)\n",
    "    action_representation = torch.randn(24, 4, 4)\n",
    "    prediction = model.predict_action(action_representation, card_representation)\n",
    "    if prediction == 0:\n",
    "        print(f\"prediction {i}: Fold\")\n",
    "    elif prediction == 1:\n",
    "        print(f\"prediction {i}: Check/Call\")\n",
    "    elif prediction == 2:\n",
    "        print(f\"prediction {i}: Bet/Raise (BB)\")\n",
    "    elif prediction == 3:\n",
    "        print(f\"prediction {i}: All-in\")"
   ]
  },
  {
   "cell_type": "code",
   "execution_count": null,
   "metadata": {},
   "outputs": [],
   "source": [
    "import pokerkit as pk\n",
    "\n",
    "big_blind = 100\n",
    "small_blind = 0.5*big_blind\n",
    "blinds = [small_blind, big_blind]\n",
    "ante = 0\n",
    "min_bet = 0.5*big_blind\n",
    "player_count = 2\n",
    "\n",
    "P1_stack = 100*big_blind\n",
    "P2_stack = 50*big_blind\n",
    "\n",
    "game = pk.NoLimitTexasHoldem(\n",
    "    # Automations - everything is automatic except for player actions\n",
    "    (\n",
    "        pk.Automation.ANTE_POSTING,\n",
    "        pk.Automation.BET_COLLECTION,\n",
    "        pk.Automation.BLIND_OR_STRADDLE_POSTING,\n",
    "        pk.Automation.CARD_BURNING,\n",
    "        pk.Automation.HOLE_DEALING,\n",
    "        pk.Automation.BOARD_DEALING,\n",
    "        pk.Automation.HOLE_CARDS_SHOWING_OR_MUCKING,\n",
    "        pk.Automation.HAND_KILLING,\n",
    "        pk.Automation.CHIPS_PUSHING,\n",
    "        pk.Automation.CHIPS_PULLING,\n",
    "    ),\n",
    "    ante_trimming_status=True, # irrelevant but necessary for the game to be created\n",
    "    raw_antes=ante,\n",
    "    raw_blinds_or_straddles=blinds,\n",
    "    min_bet=min_bet,\n",
    ")\n",
    "\n",
    "state = game(raw_starting_stacks=[P1_stack, P2_stack], player_count=player_count)\n",
    "print(type(state))\n",
    "print(f\"Street index: {state.street_index}\")\n",
    "print(f\"Stacks: {state.stacks}\")"
   ]
  },
  {
   "cell_type": "code",
   "execution_count": null,
   "metadata": {},
   "outputs": [],
   "source": [
    "print(f\"Bets: {state.bets}\")\n",
    "print(f\"Stacks: {state.stacks}\")\n",
    "print(f\"Actor indices: {state.actor_indices}\")\n",
    "\n",
    "\n",
    "state.complete_bet_or_raise_to(state.stacks[state.actor_index] + state.bets[state.actor_index])\n",
    "print(f\"All in\")\n",
    "print(f\"Bets: {state.bets}\")\n",
    "print(f\"Stacks: {state.stacks}\")\n",
    "print(f\"Actor indices: {state.actor_indices}\")\n",
    "\n",
    "state.check_or_call()\n",
    "print(\"Check or call\")\n",
    "print(f\"Bets: {state.bets}\")\n",
    "print(f\"Stacks: {state.stacks}\")\n",
    "print(f\"Actor indices: {state.actor_indices}\")\n",
    "\n",
    "print(f\"Street index: {state.street_index}\")"
   ]
  }
 ],
 "metadata": {
  "kernelspec": {
   "display_name": "PokerRL",
   "language": "python",
   "name": "python3"
  },
  "language_info": {
   "codemirror_mode": {
    "name": "ipython",
    "version": 3
   },
   "file_extension": ".py",
   "mimetype": "text/x-python",
   "name": "python",
   "nbconvert_exporter": "python",
   "pygments_lexer": "ipython3",
   "version": "3.10.16"
  }
 },
 "nbformat": 4,
 "nbformat_minor": 2
}
