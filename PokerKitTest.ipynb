{
 "cells": [
  {
   "cell_type": "code",
   "execution_count": 24,
   "metadata": {},
   "outputs": [],
   "source": [
    "import pokerkit as pk"
   ]
  },
  {
   "cell_type": "code",
   "execution_count": 87,
   "metadata": {},
   "outputs": [
    {
     "data": {
      "text/plain": [
       "State(automations=(<Automation.ANTE_POSTING: 'Ante posting'>, <Automation.BET_COLLECTION: 'Bet collection'>, <Automation.BLIND_OR_STRADDLE_POSTING: 'Blind or straddle posting'>, <Automation.CARD_BURNING: 'Card burning'>, <Automation.HOLE_DEALING: 'Hole dealing'>, <Automation.BOARD_DEALING: 'Board dealing'>, <Automation.HOLE_CARDS_SHOWING_OR_MUCKING: 'Hole cards showing or mucking'>, <Automation.HAND_KILLING: 'Hand killing'>, <Automation.CHIPS_PUSHING: 'Chips pushing'>, <Automation.CHIPS_PULLING: 'Chips pulling'>), deck=<Deck.STANDARD: (2c, 2d, 2h, 2s, 3c, 3d, 3h, 3s, 4c, 4d, 4h, 4s, 5c, 5d, 5h, 5s, 6c, 6d, 6h, 6s, 7c, 7d, 7h, 7s, 8c, 8d, 8h, 8s, 9c, 9d, 9h, 9s, Tc, Td, Th, Ts, Jc, Jd, Jh, Js, Qc, Qd, Qh, Qs, Kc, Kd, Kh, Ks, Ac, Ad, Ah, As)>, hand_types=(<class 'pokerkit.hands.StandardHighHand'>,), streets=(Street(card_burning_status=False, hole_dealing_statuses=(False, False), board_dealing_count=0, draw_status=False, opening=<Opening.POSITION: 'Position'>, min_completion_betting_or_raising_amount=50.0, max_completion_betting_or_raising_count=None), Street(card_burning_status=True, hole_dealing_statuses=(), board_dealing_count=3, draw_status=False, opening=<Opening.POSITION: 'Position'>, min_completion_betting_or_raising_amount=50.0, max_completion_betting_or_raising_count=None), Street(card_burning_status=True, hole_dealing_statuses=(), board_dealing_count=1, draw_status=False, opening=<Opening.POSITION: 'Position'>, min_completion_betting_or_raising_amount=50.0, max_completion_betting_or_raising_count=None), Street(card_burning_status=True, hole_dealing_statuses=(), board_dealing_count=1, draw_status=False, opening=<Opening.POSITION: 'Position'>, min_completion_betting_or_raising_amount=50.0, max_completion_betting_or_raising_count=None)), betting_structure=<BettingStructure.NO_LIMIT: 'No-limit'>, ante_trimming_status=True, bring_in=0, player_count=5, mode=<Mode.TOURNAMENT: 'Tournament'>, starting_board_count=1, divmod=<function divmod at 0x000002053FF64720>, rake=<function rake at 0x000002053FF647C0>, antes=(10.0, 10.0, 10.0, 10.0, 10.0), blinds_or_straddles=(50.0, 100, 0, 0, 0), starting_stacks=(10000, 10000, 10000, 10000, 10000), deck_cards=deque([Js, Jh, 8c, Td, Ad, Kd, 5s, 5c, 9h, 7d, Ac, 9d, 6c, 8s, Ah, 4h, Jd, Tc, 7s, As, Qh, 4s, Qd, 6d, 2c, 2h, 3d, 7h, 8h, 9c, 6s, Kc, 5d, 8d, Ks, Qc, 3h, 3c, 4d, 7c, 2s, Jc]), board_cards=[], mucked_cards=[], burn_cards=[], statuses=[True, True, True, True, True], bets=[50.0, 100, 0, 0, 0], stacks=[9940.0, 9890.0, 9990.0, 9990.0, 9990.0], payoffs=[-60.0, -110.0, -10.0, -10.0, -10.0], hole_cards=[[6h, Th], [3s, Ts], [Kh, 4c], [5h, Qs], [9s, 2d]], hole_card_statuses=[[False, False], [False, False], [False, False], [False, False], [False, False]], discarded_cards=[[], [], [], []], street_index=0, street_return_index=None, street_return_count=0, all_in_status=False, status=True, operations=[AntePosting(commentary=None, player_index=0, amount=10.0), AntePosting(commentary=None, player_index=1, amount=10.0), AntePosting(commentary=None, player_index=2, amount=10.0), AntePosting(commentary=None, player_index=3, amount=10.0), AntePosting(commentary=None, player_index=4, amount=10.0), BetCollection(commentary=None, bets=(10.0, 10.0, 10.0, 10.0, 10.0)), BlindOrStraddlePosting(commentary=None, player_index=0, amount=50.0), BlindOrStraddlePosting(commentary=None, player_index=1, amount=100), HoleDealing(commentary=None, player_index=0, cards=(6h,), statuses=(False,)), HoleDealing(commentary=None, player_index=1, cards=(3s,), statuses=(False,)), HoleDealing(commentary=None, player_index=2, cards=(Kh,), statuses=(False,)), HoleDealing(commentary=None, player_index=3, cards=(5h,), statuses=(False,)), HoleDealing(commentary=None, player_index=4, cards=(9s,), statuses=(False,)), HoleDealing(commentary=None, player_index=0, cards=(Th,), statuses=(False,)), HoleDealing(commentary=None, player_index=1, cards=(Ts,), statuses=(False,)), HoleDealing(commentary=None, player_index=2, cards=(4c,), statuses=(False,)), HoleDealing(commentary=None, player_index=3, cards=(Qs,), statuses=(False,)), HoleDealing(commentary=None, player_index=4, cards=(2d,), statuses=(False,))], ante_posting_statuses=[False, False, False, False, False], bet_collection_status=False, blind_or_straddle_posting_statuses=[False, False, False, False, False], card_burning_status=False, hole_dealing_statuses=[deque([]), deque([]), deque([]), deque([]), deque([])], board_dealing_counts=[0], standing_pat_or_discarding_statuses=[False, False, False, False, False], opener_index=2, bring_in_status=False, completion_status=False, actor_indices=deque([2, 3, 4, 0, 1]), completion_betting_or_raising_amount=0, completion_betting_or_raising_count=0, acted_player_indices=set(), consecutive_all_in_completion_betting_or_raising_amounts=[], runout_count_selector_statuses=[False, False, False, False, False], runout_count=None, runout_count_selection_flag=False, showdown_indices=deque([]), hand_killing_statuses=[False, False, False, False, False], _pots=None, _sub_pots=[], chips_pulling_statuses=[False, False, False, False, False])"
      ]
     },
     "execution_count": 87,
     "metadata": {},
     "output_type": "execute_result"
    }
   ],
   "source": [
    "big_blind = 100\n",
    "small_blind = 0.5*big_blind\n",
    "blinds = [small_blind, big_blind]\n",
    "ante = 0.1*big_blind\n",
    "min_bet = 0.5*big_blind\n",
    "starting_stack = 100*big_blind\n",
    "player_count = 5\n",
    "board_idx = 0 # only one board\n",
    "hand_type_idx = 0 # corresponds to pk.hand_types.StandHighHand, which is the hand type for NLTH\n",
    "\n",
    "game = pk.NoLimitTexasHoldem(\n",
    "    # Automations - everything is automatic except for player actions\n",
    "    (\n",
    "        pk.Automation.ANTE_POSTING,\n",
    "        pk.Automation.BET_COLLECTION,\n",
    "        pk.Automation.BLIND_OR_STRADDLE_POSTING,\n",
    "        pk.Automation.CARD_BURNING,\n",
    "        pk.Automation.HOLE_DEALING,\n",
    "        pk.Automation.BOARD_DEALING,\n",
    "        pk.Automation.HOLE_CARDS_SHOWING_OR_MUCKING,\n",
    "        pk.Automation.HAND_KILLING,\n",
    "        pk.Automation.CHIPS_PUSHING,\n",
    "        pk.Automation.CHIPS_PULLING,\n",
    "    ),\n",
    "    ante_trimming_status=True, # irrelevant but necessary for the game to be created\n",
    "    raw_antes=ante,\n",
    "    raw_blinds_or_straddles=blinds,\n",
    "    min_bet=min_bet,\n",
    ")\n",
    "\n",
    "state = game(raw_starting_stacks=starting_stack, player_count=player_count)\n",
    "state"
   ]
  },
  {
   "cell_type": "code",
   "execution_count": 88,
   "metadata": {},
   "outputs": [
    {
     "name": "stdout",
     "output_type": "stream",
     "text": [
      "Pre-flop betting\n",
      "Player 2's turn, hand: None, current bets: [50.0, 100, 0, 0, 0], queue: deque([2, 3, 4, 0, 1])\n",
      "Player 3's turn, hand: None, current bets: [50.0, 100, 150, 0, 0], queue: deque([3, 4, 0, 1])\n",
      "Player 4's turn, hand: None, current bets: [50.0, 100, 150, 150, 0], queue: deque([4, 0, 1])\n",
      "Player 0's turn, hand: None, current bets: [50.0, 100, 150, 150, 150], queue: deque([0, 1])\n",
      "Player 1's turn, hand: None, current bets: [150.0, 100, 150, 150, 150], queue: deque([1])\n",
      "Pre-flop betting complete\n"
     ]
    }
   ],
   "source": [
    "print(f\"Pre-flop betting\")\n",
    "print(f\"Player {state.actor_index}'s turn, hand: {state.get_hand(state.actor_index, board_idx, hand_type_idx)}, current bets: {state.bets}, queue: {state.actor_indices}\")\n",
    "state.complete_bet_or_raise_to(150) # UTG (player2)\n",
    "print(f\"Player {state.actor_index}'s turn, hand: {state.get_hand(state.actor_index, board_idx, hand_type_idx)}, current bets: {state.bets}, queue: {state.actor_indices}\")\n",
    "state.check_or_call() # player3\n",
    "print(f\"Player {state.actor_index}'s turn, hand: {state.get_hand(state.actor_index, board_idx, hand_type_idx)}, current bets: {state.bets}, queue: {state.actor_indices}\")\n",
    "state.check_or_call() # player4\n",
    "print(f\"Player {state.actor_index}'s turn, hand: {state.get_hand(state.actor_index, board_idx, hand_type_idx)}, current bets: {state.bets}, queue: {state.actor_indices}\")\n",
    "state.check_or_call() # player0\n",
    "print(f\"Player {state.actor_index}'s turn, hand: {state.get_hand(state.actor_index, board_idx, hand_type_idx)}, current bets: {state.bets}, queue: {state.actor_indices}\")\n",
    "state.check_or_call() # player1\n",
    "print(f\"Pre-flop betting complete\")"
   ]
  },
  {
   "cell_type": "code",
   "execution_count": 89,
   "metadata": {},
   "outputs": [
    {
     "name": "stdout",
     "output_type": "stream",
     "text": [
      "Post-flop betting, board cards: [[Jh], [8c], [Td]]\n",
      "Player 0's turn, hand: One pair (6hThJh8cTd), current bets: [0, 0, 0, 0, 0], queue: deque([0, 1, 2, 3, 4])\n",
      "Player 1's turn, hand: One pair (3sTsJh8cTd), current bets: [150, 0, 0, 0, 0], queue: deque([1, 2, 3, 4])\n",
      "Player 2's turn, hand: High card (Kh4cJh8cTd), current bets: [150, 150, 0, 0, 0], queue: deque([2, 3, 4])\n",
      "Player 3's turn, hand: High card (5hQsJh8cTd), current bets: [150, 150, 150, 0, 0], queue: deque([3, 4])\n",
      "Player 4's turn, hand: High card (9s2dJh8cTd), current bets: [150, 150, 150, 150, 0], queue: deque([4])\n",
      "Post flop betting complete\n"
     ]
    }
   ],
   "source": [
    "print(f\"Post-flop betting, board cards: {state.board_cards}\")\n",
    "print(f\"Player {state.actor_index}'s turn, hand: {state.get_hand(state.actor_index, board_idx, hand_type_idx)}, current bets: {state.bets}, queue: {state.actor_indices}\")\n",
    "state.complete_bet_or_raise_to(150) # UTG (player2)\n",
    "print(f\"Player {state.actor_index}'s turn, hand: {state.get_hand(state.actor_index, board_idx, hand_type_idx)}, current bets: {state.bets}, queue: {state.actor_indices}\")\n",
    "state.check_or_call() # player3\n",
    "print(f\"Player {state.actor_index}'s turn, hand: {state.get_hand(state.actor_index, board_idx, hand_type_idx)}, current bets: {state.bets}, queue: {state.actor_indices}\")\n",
    "state.check_or_call() # player4\n",
    "print(f\"Player {state.actor_index}'s turn, hand: {state.get_hand(state.actor_index, board_idx, hand_type_idx)}, current bets: {state.bets}, queue: {state.actor_indices}\")\n",
    "state.check_or_call() # player0\n",
    "print(f\"Player {state.actor_index}'s turn, hand: {state.get_hand(state.actor_index, board_idx, hand_type_idx)}, current bets: {state.bets}, queue: {state.actor_indices}\")\n",
    "state.check_or_call() # player1\n",
    "print(\"Post flop betting complete\")"
   ]
  },
  {
   "cell_type": "code",
   "execution_count": null,
   "metadata": {},
   "outputs": [],
   "source": [
    "print(f\"Fourth street betting, board cards: {state.board_cards}\")\n",
    "print(f\"Player {state.actor_index}'s turn, hand: {state.get_hand(state.actor_index, board_idx, hand_type_idx)}, current bets: {state.bets}, queue: {state.actor_indices}\")\n",
    "state.complete_bet_or_raise_to(150)\n",
    "print(f\"Player {state.actor_index}'s turn, hand: {state.get_hand(state.actor_index, board_idx, hand_type_idx)}, current bets: {state.bets}, queue: {state.actor_indices}\")\n",
    "state.check_or_call() \n",
    "print(f\"Player {state.actor_index}'s turn, hand: {state.get_hand(state.actor_index, board_idx, hand_type_idx)}, current bets: {state.bets}, queue: {state.actor_indices}\")\n",
    "state.check_or_call()\n",
    "print(f\"Player {state.actor_index}'s turn, hand: {state.get_hand(state.actor_index, board_idx, hand_type_idx)}, current bets: {state.bets}, queue: {state.actor_indices}\")\n",
    "state.check_or_call() \n",
    "print(f\"Player {state.actor_index}'s turn, hand: {state.get_hand(state.actor_index, board_idx, hand_type_idx)}, current bets: {state.bets}, queue: {state.actor_indices}\")\n",
    "state.check_or_call()\n",
    "print(\"Fourth street betting complete\")"
   ]
  },
  {
   "cell_type": "code",
   "execution_count": null,
   "metadata": {},
   "outputs": [],
   "source": [
    "print(f\"Fifth street betting, board cards: {state.board_cards}\")\n",
    "print(f\"Player {state.actor_index}'s turn, hand: {state.get_hand(state.actor_index, board_idx, hand_type_idx)}, current bets: {state.bets}, queue: {state.actor_indices}\")\n",
    "state.complete_bet_or_raise_to(150)\n",
    "print(f\"Player {state.actor_index}'s turn, hand: {state.get_hand(state.actor_index, board_idx, hand_type_idx)}, current bets: {state.bets}, queue: {state.actor_indices}\")\n",
    "state.check_or_call() \n",
    "print(f\"Player {state.actor_index}'s turn, hand: {state.get_hand(state.actor_index, board_idx, hand_type_idx)}, current bets: {state.bets}, queue: {state.actor_indices}\")\n",
    "state.check_or_call()\n",
    "print(f\"Player {state.actor_index}'s turn, hand: {state.get_hand(state.actor_index, board_idx, hand_type_idx)}, current bets: {state.bets}, queue: {state.actor_indices}\")\n",
    "state.check_or_call() \n",
    "print(f\"Player {state.actor_index}'s turn, hand: {state.get_hand(state.actor_index, board_idx, hand_type_idx)}, current bets: {state.bets}, queue: {state.actor_indices}\")\n",
    "state.check_or_call()\n",
    "print(\"Fourth street betting complete\")"
   ]
  },
  {
   "cell_type": "code",
   "execution_count": null,
   "metadata": {},
   "outputs": [],
   "source": [
    "print(f\"Final stacks: {state.stacks}\")"
   ]
  },
  {
   "cell_type": "code",
   "execution_count": 10,
   "metadata": {},
   "outputs": [
    {
     "name": "stdout",
     "output_type": "stream",
     "text": [
      "models/PyStack/data/TrainSamples/preflop/root_nodes_npy/targets.1.npy\n",
      "Current directory: d:\\github\\PokerRL\n",
      "\n",
      "File: boards.1.npy\n",
      "Shape: (25, 1)\n",
      "Data type: uint8\n",
      "Min value: 0\n",
      "Max value: 0\n",
      "Mean value: 0.0\n",
      "\n",
      "First few elements:\n",
      "[0 0 0 0 0 0 0 0 0 0]\n",
      "\n",
      "Unique values and their counts:\n",
      "0: 25\n",
      "\n",
      "File: inputs.1.npy\n",
      "Shape: (25, 2653)\n",
      "Data type: float32\n",
      "Min value: 1.161431112959091e-13\n",
      "Max value: 0.7584499716758728\n",
      "Mean value: 0.0008252920815721154\n",
      "\n",
      "First few elements:\n",
      "[4.1004296e-05 6.6787038e-07 8.3966434e-06 1.8905454e-06 1.7941277e-06\n",
      " 2.1848034e-06 1.8330724e-06 3.6077175e-04 4.4929422e-04 2.0593900e-05]\n",
      "\n",
      "File: targets.1.npy\n",
      "Shape: (25, 2652)\n",
      "Data type: float32\n",
      "Min value: -1.4464530944824219\n",
      "Max value: 7.629465103149414\n",
      "Mean value: 0.14718709886074066\n",
      "\n",
      "First few elements:\n",
      "[ 0.58636516  0.26582837  0.880857   -0.21549967  0.43903887  0.38813844\n",
      "  0.00750146  0.0152187  -0.03468379 -0.27887008]\n"
     ]
    }
   ],
   "source": [
    "import numpy as np\n",
    "import sys\n",
    "import os\n",
    "\n",
    "def visualize_npy(file_path):\n",
    "    # Load the numpy array\n",
    "    data = np.load(file_path)\n",
    "    \n",
    "    # Print basic information\n",
    "    print(f\"\\nFile: {os.path.basename(file_path)}\")\n",
    "    print(f\"Shape: {data.shape}\")\n",
    "    print(f\"Data type: {data.dtype}\")\n",
    "    print(f\"Min value: {np.min(data)}\")\n",
    "    print(f\"Max value: {np.max(data)}\")\n",
    "    print(f\"Mean value: {np.mean(data)}\")\n",
    "\n",
    "    # Print first few elements\n",
    "    print(\"\\nFirst few elements:\")\n",
    "    print(data.flatten()[:10])  # Show first 10 elements\n",
    "    \n",
    "    # Print unique values and their counts if the array is small enough\n",
    "    if data.size < 1000:  # Only for reasonably sized arrays\n",
    "        unique_vals = np.unique(data, return_counts=True)\n",
    "        print(\"\\nUnique values and their counts:\")\n",
    "        for val, count in zip(*unique_vals):\n",
    "            print(f\"{val}: {count}\")\n",
    "\n",
    "def main(file_path):\n",
    "    if not os.path.exists(file_path):\n",
    "        print(f\"File not found: {file_path}\")\n",
    "        return\n",
    "        \n",
    "    visualize_npy(file_path)\n",
    "\n",
    "print(filepath)\n",
    "print(f\"Current directory: {os.getcwd()}\")\n",
    "\n",
    "for filepath in [\"models/PyStack/data/TrainSamples/flop/root_nodes_npy/boards.1.npy\", \n",
    "                 \"models/PyStack/data/TrainSamples/flop/root_nodes_npy/inputs.1.npy\", \n",
    "                 \"models/PyStack/data/TrainSamples/flop/root_nodes_npy/targets.1.npy\"]:\n",
    "    main(filepath)"
   ]
  }
 ],
 "metadata": {
  "kernelspec": {
   "display_name": "PokerRL",
   "language": "python",
   "name": "python3"
  },
  "language_info": {
   "codemirror_mode": {
    "name": "ipython",
    "version": 3
   },
   "file_extension": ".py",
   "mimetype": "text/x-python",
   "name": "python",
   "nbconvert_exporter": "python",
   "pygments_lexer": "ipython3",
   "version": "3.10.16"
  }
 },
 "nbformat": 4,
 "nbformat_minor": 2
}
